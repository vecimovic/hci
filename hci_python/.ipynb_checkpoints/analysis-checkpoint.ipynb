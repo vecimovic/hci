{
 "cells": [
  {
   "cell_type": "code",
   "execution_count": 8,
   "metadata": {},
   "outputs": [],
   "source": [
    "import glob\n",
    "import xlsxwriter\n",
    "import ipynb.fs.full.functions as functions\n",
    "import sympy as sp\n",
    "import numpy as np\n",
    "\n",
    "x = sp.Symbol('x')\n",
    "FOLDER = \"user_input/*.txt\"\n",
    "HEADERS = [\"username\",\"function\",\"pointing_device\", \"time[s]\", \"error_rate\"]\n",
    "\n",
    "functions = {\n",
    "    \"e1\": functions.easy_fun1,\n",
    "    \"e2\": functions.easy_fun2,\n",
    "    \"e3\": functions.easy_fun3,\n",
    "    \"e4\": functions.easy_fun4,\n",
    "    \n",
    "    \"m1\": functions.medium_fun1,\n",
    "    \"m2\": functions.medium_fun2,\n",
    "    \"m3\": functions.medium_fun3,\n",
    "    \"m4\": functions.medium_fun4,\n",
    "    \n",
    "    \"h1\": functions.hard_fun1,\n",
    "    \"h2\": functions.hard_fun2,\n",
    "    \"h3\": functions.hard_fun3,\n",
    "    \"h4\": functions.hard_fun4,\n",
    "}\n",
    "\n",
    "def format_data():\n",
    "    file_list = glob.glob(FOLDER)\n",
    "    data = []\n",
    "    data.append(HEADERS)\n",
    "    \n",
    "    for i in file_list:\n",
    "        points = []\n",
    "        pointer = \"\"\n",
    "        time = 0\n",
    "        error_rate = 0\n",
    "\n",
    "        f = open(i, \"r\")\n",
    "\n",
    "        username = i.replace(\"user_input\\\\\", \"\").replace(\".txt\", \"\")[:-3]\n",
    "        function = i.replace(\"user_input\\\\\", \"\").replace(\".txt\", \"\")[-2:]\n",
    "\n",
    "        lines = f.readlines()\n",
    "        counter = 1\n",
    "        for l in lines:\n",
    "            if counter == 1:\n",
    "                pointer = l[:-1]\n",
    "            elif counter == 2:\n",
    "                time = l[:-1]\n",
    "            else:\n",
    "                point = l.split()\n",
    "                point[0] = float(point[0])\n",
    "                point[1] = float(point[1])\n",
    "                points.append(point)\n",
    "\n",
    "            counter += 1\n",
    "        error_rate = calculate_error(function, points)\n",
    "        data.append([username, function, pointer, time, error_rate])\n",
    "\n",
    "    return data"
   ]
  },
  {
   "cell_type": "code",
   "execution_count": 19,
   "metadata": {},
   "outputs": [],
   "source": [
    "def calculate_error(function_label, points):\n",
    "    function_expr = functions[function_label]\n",
    "    fun = sp.lambdify(x, function_expr(), \"numpy\")\n",
    "    num_of_points = len(points)\n",
    "    err_i = []\n",
    "    for p in points:\n",
    "        r = p[0]\n",
    "        theta = p[1]\n",
    "        real_theta = fun(r)\n",
    "        err_i = np.abs(theta - real_theta)\n",
    "        print(err_i)\n",
    "    return 0"
   ]
  },
  {
   "cell_type": "code",
   "execution_count": 10,
   "metadata": {},
   "outputs": [],
   "source": [
    "def choose_function(function_name):\n",
    "    \n",
    "    return 0"
   ]
  },
  {
   "cell_type": "code",
   "execution_count": 11,
   "metadata": {},
   "outputs": [],
   "source": [
    "def save_to_xlsx_file(data, name):\n",
    "    workbook = xlsxwriter.Workbook(name)\n",
    "    worksheet = workbook.add_worksheet()\n",
    "    counter = 0\n",
    "    for i in data:\n",
    "        worksheet.write_row(counter, 0, i)\n",
    "        counter += 1\n",
    "        \n",
    "    workbook.close()"
   ]
  },
  {
   "cell_type": "code",
   "execution_count": 20,
   "metadata": {},
   "outputs": [
    {
     "ename": "NameError",
     "evalue": "name 'np' is not defined",
     "output_type": "error",
     "traceback": [
      "\u001b[1;31m---------------------------------------------------------------------------\u001b[0m",
      "\u001b[1;31mNameError\u001b[0m                                 Traceback (most recent call last)",
      "\u001b[1;32m<ipython-input-20-47b29296d532>\u001b[0m in \u001b[0;36m<module>\u001b[1;34m\u001b[0m\n\u001b[1;32m----> 1\u001b[1;33m \u001b[0mdata\u001b[0m \u001b[1;33m=\u001b[0m \u001b[0mformat_data\u001b[0m\u001b[1;33m(\u001b[0m\u001b[1;33m)\u001b[0m\u001b[1;33m\u001b[0m\u001b[1;33m\u001b[0m\u001b[0m\n\u001b[0m\u001b[0;32m      2\u001b[0m \u001b[0msorted_by_username\u001b[0m \u001b[1;33m=\u001b[0m \u001b[0msorted\u001b[0m\u001b[1;33m(\u001b[0m\u001b[0mdata\u001b[0m\u001b[1;33m,\u001b[0m \u001b[0mkey\u001b[0m\u001b[1;33m=\u001b[0m\u001b[1;32mlambda\u001b[0m \u001b[0mx\u001b[0m \u001b[1;33m:\u001b[0m \u001b[0mx\u001b[0m\u001b[1;33m[\u001b[0m\u001b[1;36m0\u001b[0m\u001b[1;33m]\u001b[0m\u001b[1;33m)\u001b[0m\u001b[1;33m\u001b[0m\u001b[1;33m\u001b[0m\u001b[0m\n\u001b[0;32m      3\u001b[0m \u001b[0msave_to_xlsx_file\u001b[0m\u001b[1;33m(\u001b[0m\u001b[0mdata\u001b[0m\u001b[1;33m,\u001b[0m \u001b[1;34m\"unsorted_experiment_data.xlsx\"\u001b[0m\u001b[1;33m)\u001b[0m\u001b[1;33m\u001b[0m\u001b[1;33m\u001b[0m\u001b[0m\n",
      "\u001b[1;32m<ipython-input-8-26b34cf939f9>\u001b[0m in \u001b[0;36mformat_data\u001b[1;34m()\u001b[0m\n\u001b[0;32m     55\u001b[0m \u001b[1;33m\u001b[0m\u001b[0m\n\u001b[0;32m     56\u001b[0m             \u001b[0mcounter\u001b[0m \u001b[1;33m+=\u001b[0m \u001b[1;36m1\u001b[0m\u001b[1;33m\u001b[0m\u001b[1;33m\u001b[0m\u001b[0m\n\u001b[1;32m---> 57\u001b[1;33m         \u001b[0merror_rate\u001b[0m \u001b[1;33m=\u001b[0m \u001b[0mcalculate_error\u001b[0m\u001b[1;33m(\u001b[0m\u001b[0mfunction\u001b[0m\u001b[1;33m,\u001b[0m \u001b[0mpoints\u001b[0m\u001b[1;33m)\u001b[0m\u001b[1;33m\u001b[0m\u001b[1;33m\u001b[0m\u001b[0m\n\u001b[0m\u001b[0;32m     58\u001b[0m         \u001b[0mdata\u001b[0m\u001b[1;33m.\u001b[0m\u001b[0mappend\u001b[0m\u001b[1;33m(\u001b[0m\u001b[1;33m[\u001b[0m\u001b[0musername\u001b[0m\u001b[1;33m,\u001b[0m \u001b[0mfunction\u001b[0m\u001b[1;33m,\u001b[0m \u001b[0mpointer\u001b[0m\u001b[1;33m,\u001b[0m \u001b[0mtime\u001b[0m\u001b[1;33m,\u001b[0m \u001b[0merror_rate\u001b[0m\u001b[1;33m]\u001b[0m\u001b[1;33m)\u001b[0m\u001b[1;33m\u001b[0m\u001b[1;33m\u001b[0m\u001b[0m\n\u001b[0;32m     59\u001b[0m \u001b[1;33m\u001b[0m\u001b[0m\n",
      "\u001b[1;32m<ipython-input-19-b9902cdfadd9>\u001b[0m in \u001b[0;36mcalculate_error\u001b[1;34m(function_label, points)\u001b[0m\n\u001b[0;32m      8\u001b[0m         \u001b[0mtheta\u001b[0m \u001b[1;33m=\u001b[0m \u001b[0mp\u001b[0m\u001b[1;33m[\u001b[0m\u001b[1;36m1\u001b[0m\u001b[1;33m]\u001b[0m\u001b[1;33m\u001b[0m\u001b[1;33m\u001b[0m\u001b[0m\n\u001b[0;32m      9\u001b[0m         \u001b[0mreal_theta\u001b[0m \u001b[1;33m=\u001b[0m \u001b[0mfun\u001b[0m\u001b[1;33m(\u001b[0m\u001b[0mr\u001b[0m\u001b[1;33m)\u001b[0m\u001b[1;33m\u001b[0m\u001b[1;33m\u001b[0m\u001b[0m\n\u001b[1;32m---> 10\u001b[1;33m         \u001b[0merr_i\u001b[0m \u001b[1;33m=\u001b[0m \u001b[0mnp\u001b[0m\u001b[1;33m.\u001b[0m\u001b[0mabs\u001b[0m\u001b[1;33m(\u001b[0m\u001b[0mtheta\u001b[0m \u001b[1;33m-\u001b[0m \u001b[0mreal_theta\u001b[0m\u001b[1;33m)\u001b[0m\u001b[1;33m\u001b[0m\u001b[1;33m\u001b[0m\u001b[0m\n\u001b[0m\u001b[0;32m     11\u001b[0m         \u001b[0mprint\u001b[0m\u001b[1;33m(\u001b[0m\u001b[0merr_i\u001b[0m\u001b[1;33m)\u001b[0m\u001b[1;33m\u001b[0m\u001b[1;33m\u001b[0m\u001b[0m\n\u001b[0;32m     12\u001b[0m     \u001b[1;32mreturn\u001b[0m \u001b[1;36m0\u001b[0m\u001b[1;33m\u001b[0m\u001b[1;33m\u001b[0m\u001b[0m\n",
      "\u001b[1;31mNameError\u001b[0m: name 'np' is not defined"
     ]
    }
   ],
   "source": [
    "data = format_data()\n",
    "sorted_by_username = sorted(data, key=lambda x : x[0])\n",
    "save_to_xlsx_file(data, \"unsorted_experiment_data.xlsx\")"
   ]
  },
  {
   "cell_type": "code",
   "execution_count": null,
   "metadata": {},
   "outputs": [],
   "source": []
  }
 ],
 "metadata": {
  "kernelspec": {
   "display_name": "Python 3",
   "language": "python",
   "name": "python3"
  },
  "language_info": {
   "codemirror_mode": {
    "name": "ipython",
    "version": 3
   },
   "file_extension": ".py",
   "mimetype": "text/x-python",
   "name": "python",
   "nbconvert_exporter": "python",
   "pygments_lexer": "ipython3",
   "version": "3.8.3"
  }
 },
 "nbformat": 4,
 "nbformat_minor": 4
}
