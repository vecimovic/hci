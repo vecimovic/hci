{
 "cells": [
  {
   "cell_type": "markdown",
   "metadata": {},
   "source": [
    "# Analiza podataka iz eksperimenta"
   ]
  },
  {
   "cell_type": "code",
   "execution_count": 2,
   "metadata": {},
   "outputs": [],
   "source": [
    "import glob\n",
    "import xlsxwriter\n",
    "import ipynb.fs.full.functions as functions\n",
    "import sympy as sp\n",
    "import numpy as np\n",
    "\n",
    "x = sp.Symbol('x')\n",
    "FOLDER = \"user_input/*.txt\"\n",
    "HEADERS = [\"username\",\"function\", \"function_difficulty\",\"pointing_device\", \"time[s]\", \"error_rate\"]\n",
    "\n",
    "functions = {\n",
    "    \"e1\": functions.easy_fun1,\n",
    "    \"e2\": functions.easy_fun2,\n",
    "    \"e3\": functions.easy_fun3,\n",
    "    \n",
    "    \"m1\": functions.medium_fun1,\n",
    "    \"m2\": functions.medium_fun2,\n",
    "    \"m3\": functions.medium_fun3,\n",
    "    \n",
    "    \"h1\": functions.hard_fun1,\n",
    "    \"h2\": functions.hard_fun2,\n",
    "    \"h3\": functions.hard_fun3,\n",
    "}"
   ]
  },
  {
   "cell_type": "markdown",
   "metadata": {},
   "source": [
    "## Obrada podataka iz datoteka"
   ]
  },
  {
   "cell_type": "code",
   "execution_count": 3,
   "metadata": {},
   "outputs": [],
   "source": [
    "def format_data():\n",
    "    file_list = glob.glob(FOLDER)\n",
    "    data = []\n",
    "    data.append(HEADERS)\n",
    "    \n",
    "    for i in file_list:\n",
    "        points = []\n",
    "        pointer = \"\"\n",
    "        time = 0\n",
    "        error_rate = 0\n",
    "\n",
    "        f = open(i, \"r\")\n",
    "\n",
    "        username = i.replace(\"user_input\\\\\", \"\").replace(\".txt\", \"\")[:-3]\n",
    "        username = username.partition('_')[0]\n",
    "        function = i.replace(\"user_input\\\\\", \"\").replace(\".txt\", \"\")[-2:]\n",
    "        \n",
    "        lines = f.readlines()\n",
    "        counter = 1\n",
    "        for l in lines:\n",
    "            if counter == 1:\n",
    "                pointer = l[:-1]\n",
    "            elif counter == 2:\n",
    "                time = l[:-1]\n",
    "            else:\n",
    "                point = l.split()\n",
    "                point[0] = float(point[0])\n",
    "                point[1] = float(point[1])\n",
    "                points.append(point)\n",
    "\n",
    "            counter += 1\n",
    "        error_rate = calculate_error(function, points)\n",
    "        data.append([username, function,function[0], pointer, time, error_rate])\n",
    "\n",
    "    return data"
   ]
  },
  {
   "cell_type": "markdown",
   "metadata": {},
   "source": [
    "## Izračun greške"
   ]
  },
  {
   "cell_type": "code",
   "execution_count": 4,
   "metadata": {},
   "outputs": [],
   "source": [
    "def calculate_error(function_label, points):\n",
    "    function_expr = functions[function_label]\n",
    "    \n",
    "    fun = sp.lambdify(x, function_expr(), \"numpy\")\n",
    "    num_of_points = len(points)\n",
    "    err_i = []\n",
    "    for p in points:\n",
    "        r = p[0]\n",
    "        theta = p[1]\n",
    "        if theta < 0:\n",
    "            theta += 2 * np.pi\n",
    "        real_r = fun(theta)\n",
    "        err_i.append(np.abs(r - real_r))\n",
    "    \n",
    "    error = 0\n",
    "    for i in err_i:\n",
    "        error += i\n",
    "        \n",
    "    error = error / num_of_points\n",
    "    \n",
    "    return error"
   ]
  },
  {
   "cell_type": "markdown",
   "metadata": {},
   "source": [
    "## Pohrana podataka u excel"
   ]
  },
  {
   "cell_type": "code",
   "execution_count": 5,
   "metadata": {},
   "outputs": [],
   "source": [
    "def save_to_xlsx_file(data, name):\n",
    "    workbook = xlsxwriter.Workbook(name)\n",
    "    worksheet = workbook.add_worksheet()\n",
    "    counter = 0\n",
    "    for i in data:\n",
    "        worksheet.write_row(counter, 0, i)\n",
    "        counter += 1\n",
    "        \n",
    "    workbook.close()"
   ]
  },
  {
   "cell_type": "markdown",
   "metadata": {},
   "source": [
    "## Pokretanje analize"
   ]
  },
  {
   "cell_type": "code",
   "execution_count": 6,
   "metadata": {},
   "outputs": [],
   "source": [
    "data = format_data()\n",
    "#sorted_by_username = sorted(data, key=lambda x : x[0])\n",
    "save_to_xlsx_file(data, \"experiment_data.xlsx\")"
   ]
  },
  {
   "cell_type": "code",
   "execution_count": null,
   "metadata": {},
   "outputs": [],
   "source": []
  },
  {
   "cell_type": "code",
   "execution_count": null,
   "metadata": {},
   "outputs": [],
   "source": []
  }
 ],
 "metadata": {
  "kernelspec": {
   "display_name": "Python 3",
   "language": "python",
   "name": "python3"
  },
  "language_info": {
   "codemirror_mode": {
    "name": "ipython",
    "version": 3
   },
   "file_extension": ".py",
   "mimetype": "text/x-python",
   "name": "python",
   "nbconvert_exporter": "python",
   "pygments_lexer": "ipython3",
   "version": "3.8.3"
  }
 },
 "nbformat": 4,
 "nbformat_minor": 4
}
